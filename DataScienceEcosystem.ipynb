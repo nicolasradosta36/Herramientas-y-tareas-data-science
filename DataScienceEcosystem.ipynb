{
 "cells": [
  {
   "cell_type": "markdown",
   "id": "8da84f15-10c2-44bc-acaa-86102d5e8525",
   "metadata": {},
   "source": [
    "# **Data Science Tools and Ecosystem**"
   ]
  },
  {
   "cell_type": "markdown",
   "id": "c9ffd81a-7aef-474a-9197-4662e0aab173",
   "metadata": {},
   "source": [
    "## En este cuaderno,voy a hablar sobre las herramientas y ecosistemas en data science"
   ]
  },
  {
   "cell_type": "markdown",
   "id": "3debf124-4bbe-468c-8185-ec1efd2b1aed",
   "metadata": {},
   "source": [
    "### Objetivos:\n",
    "* listar lenguajes populares en ds\n",
    "* bilbliotecas mas usadas\n",
    "* listar herramientas para ds\n",
    "* ejemplos de expresiones aritmeticas"
   ]
  },
  {
   "cell_type": "markdown",
   "id": "da9111fb-8887-4407-a5d2-89acd5e72ea0",
   "metadata": {},
   "source": [
    "#### Algunos de los lenguajes populares que utilizan los científicos de datos son:\n",
    "1. python\n",
    "2. r\n",
    "3. sql\n",
    "4. Noqsl\n",
    "5. java\n",
    "6. c#"
   ]
  },
  {
   "cell_type": "markdown",
   "id": "933d0a52-26b8-474f-b4b5-2e7a39fa4dea",
   "metadata": {},
   "source": [
    "#### Y para estos lenguajes existen bibliotecas comúnmente utilizadas por los científicos de datos incluyen:\n",
    "1. ggplot\n",
    "2. tensorflow\n",
    "3. caret\n",
    "4. pandas\n",
    "5. numpy"
   ]
  },
  {
   "cell_type": "markdown",
   "id": "62411be4-3aa9-431b-89e6-d149c9e26410",
   "metadata": {},
   "source": [
    "| herramientas para un data science     |\n",
    "|---------------------------------------|\n",
    "|Jupyter notebooks                      |\n",
    "|Git                                    |\n",
    "|Apache Spark                           |"
   ]
  },
  {
   "cell_type": "markdown",
   "id": "2dd9cea9-8bc1-4ae5-8b71-58cd509d068c",
   "metadata": {},
   "source": [
    "### Algunos ejemplos de evaluación de expresiones aritméticas en Python"
   ]
  },
  {
   "cell_type": "code",
   "execution_count": 1,
   "id": "6df46d8d-6b35-4989-97db-4feeb2aaaa9c",
   "metadata": {},
   "outputs": [
    {
     "name": "stdout",
     "output_type": "stream",
     "text": [
      "Esta es una expresión aritmética simple para multiplicar y luego sumar enteros\n"
     ]
    }
   ],
   "source": [
    "print ( \"Esta es una expresión aritmética simple para multiplicar y luego sumar enteros\")\n"
   ]
  },
  {
   "cell_type": "code",
   "execution_count": 2,
   "id": "48688bce-00e2-4617-9022-63e83a70e521",
   "metadata": {},
   "outputs": [
    {
     "data": {
      "text/plain": [
       "17"
      ]
     },
     "execution_count": 2,
     "metadata": {},
     "output_type": "execute_result"
    }
   ],
   "source": [
    "#multiplication operation\n",
    "(3*4)+5\n",
    "#addition operation"
   ]
  },
  {
   "cell_type": "code",
   "execution_count": 3,
   "id": "1996fc0c-2274-49fa-8ed0-f002e1c99867",
   "metadata": {},
   "outputs": [
    {
     "name": "stdout",
     "output_type": "stream",
     "text": [
      "Esto convertirá 200 minutos a horas dividiendo por 60\n"
     ]
    }
   ],
   "source": [
    "print (\"Esto convertirá 200 minutos a horas dividiendo por 60\")"
   ]
  },
  {
   "cell_type": "code",
   "execution_count": 4,
   "id": "35c3d259-5abf-4562-a617-3c3bfc972112",
   "metadata": {},
   "outputs": [
    {
     "data": {
      "text/plain": [
       "3.3333333333333335"
      ]
     },
     "execution_count": 4,
     "metadata": {},
     "output_type": "execute_result"
    }
   ],
   "source": [
    "#split operation \n",
    "(200/60)"
   ]
  },
  {
   "cell_type": "markdown",
   "id": "f8abc7a1-75ee-4d72-880f-2978d94b5a4f",
   "metadata": {},
   "source": [
    "## Autor\n",
    "### *Nicolas Radosta* "
   ]
  },
  {
   "cell_type": "code",
   "execution_count": null,
   "id": "ab5bb6d4-c65b-4f9e-a000-93033ed0b749",
   "metadata": {},
   "outputs": [],
   "source": []
  }
 ],
 "metadata": {
  "kernelspec": {
   "display_name": "Python 3 (ipykernel)",
   "language": "python",
   "name": "python3"
  },
  "language_info": {
   "codemirror_mode": {
    "name": "ipython",
    "version": 3
   },
   "file_extension": ".py",
   "mimetype": "text/x-python",
   "name": "python",
   "nbconvert_exporter": "python",
   "pygments_lexer": "ipython3",
   "version": "3.12.8"
  }
 },
 "nbformat": 4,
 "nbformat_minor": 5
}
